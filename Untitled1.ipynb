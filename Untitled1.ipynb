{
  "nbformat": 4,
  "nbformat_minor": 0,
  "metadata": {
    "colab": {
      "name": "Untitled1.ipynb",
      "provenance": [],
      "collapsed_sections": [],
      "authorship_tag": "ABX9TyPJR5+GZP5bg3Fq5r+bNWzk",
      "include_colab_link": true
    },
    "kernelspec": {
      "name": "python3",
      "display_name": "Python 3"
    },
    "language_info": {
      "name": "python"
    }
  },
  "cells": [
    {
      "cell_type": "markdown",
      "metadata": {
        "id": "view-in-github",
        "colab_type": "text"
      },
      "source": [
        "<a href=\"https://colab.research.google.com/github/goutham032/bug-free-meme/blob/main/Untitled1.ipynb\" target=\"_parent\"><img src=\"https://colab.research.google.com/assets/colab-badge.svg\" alt=\"Open In Colab\"/></a>"
      ]
    },
    {
      "cell_type": "code",
      "metadata": {
        "id": "9nD-wwKlek1K"
      },
      "source": [
        "import pandas as pd\n"
      ],
      "execution_count": null,
      "outputs": []
    },
    {
      "cell_type": "code",
      "metadata": {
        "colab": {
          "base_uri": "https://localhost:8080/",
          "height": 206
        },
        "id": "MQBaANVzezAN",
        "outputId": "1785515a-7f6f-4225-9b89-dc1ccecbda1a"
      },
      "source": [
        "df = pd.read_excel('tf.xlsx')\n",
        "df.head() # Reading the file"
      ],
      "execution_count": null,
      "outputs": [
        {
          "output_type": "execute_result",
          "data": {
            "text/html": [
              "<div>\n",
              "<style scoped>\n",
              "    .dataframe tbody tr th:only-of-type {\n",
              "        vertical-align: middle;\n",
              "    }\n",
              "\n",
              "    .dataframe tbody tr th {\n",
              "        vertical-align: top;\n",
              "    }\n",
              "\n",
              "    .dataframe thead th {\n",
              "        text-align: right;\n",
              "    }\n",
              "</style>\n",
              "<table border=\"1\" class=\"dataframe\">\n",
              "  <thead>\n",
              "    <tr style=\"text-align: right;\">\n",
              "      <th></th>\n",
              "      <th>Timestamp</th>\n",
              "      <th>Unnamed: 1</th>\n",
              "      <th>Name</th>\n",
              "      <th>Enroll No</th>\n",
              "    </tr>\n",
              "  </thead>\n",
              "  <tbody>\n",
              "    <tr>\n",
              "      <th>0</th>\n",
              "      <td>2021-08-10 10:30:18.562</td>\n",
              "      <td>NaN</td>\n",
              "      <td>K Sai Niroop Reddy</td>\n",
              "      <td>19STUCHH010134</td>\n",
              "    </tr>\n",
              "    <tr>\n",
              "      <th>1</th>\n",
              "      <td>2021-08-10 10:30:33.279</td>\n",
              "      <td>NaN</td>\n",
              "      <td>Ved Mahendrakar</td>\n",
              "      <td>19stuchh010058</td>\n",
              "    </tr>\n",
              "    <tr>\n",
              "      <th>2</th>\n",
              "      <td>2021-08-10 10:30:39.321</td>\n",
              "      <td>NaN</td>\n",
              "      <td>G.Brijesh kumar</td>\n",
              "      <td>19STUCHH010003</td>\n",
              "    </tr>\n",
              "    <tr>\n",
              "      <th>3</th>\n",
              "      <td>2021-08-10 10:30:46.019</td>\n",
              "      <td>NaN</td>\n",
              "      <td>yaswanth pathinavalasa</td>\n",
              "      <td>19stuchh010131</td>\n",
              "    </tr>\n",
              "    <tr>\n",
              "      <th>4</th>\n",
              "      <td>2021-08-10 10:30:50.253</td>\n",
              "      <td>NaN</td>\n",
              "      <td>P.varshini</td>\n",
              "      <td>19STUCHH010028</td>\n",
              "    </tr>\n",
              "  </tbody>\n",
              "</table>\n",
              "</div>"
            ],
            "text/plain": [
              "                Timestamp  Unnamed: 1                    Name        Enroll No\n",
              "0 2021-08-10 10:30:18.562         NaN     K Sai Niroop Reddy   19STUCHH010134 \n",
              "1 2021-08-10 10:30:33.279         NaN         Ved Mahendrakar   19stuchh010058\n",
              "2 2021-08-10 10:30:39.321         NaN         G.Brijesh kumar   19STUCHH010003\n",
              "3 2021-08-10 10:30:46.019         NaN  yaswanth pathinavalasa   19stuchh010131\n",
              "4 2021-08-10 10:30:50.253         NaN              P.varshini   19STUCHH010028"
            ]
          },
          "metadata": {},
          "execution_count": 35
        }
      ]
    },
    {
      "cell_type": "code",
      "metadata": {
        "colab": {
          "base_uri": "https://localhost:8080/"
        },
        "id": "kSc_nxh8fAsb",
        "outputId": "4ee6092e-bc4c-4a2e-825a-972d47eba37f"
      },
      "source": [
        "df['Enroll No'] #selecting individual coloumns"
      ],
      "execution_count": null,
      "outputs": [
        {
          "output_type": "execute_result",
          "data": {
            "text/plain": [
              "0     19STUCHH010134 \n",
              "1      19stuchh010058\n",
              "2      19STUCHH010003\n",
              "3      19stuchh010131\n",
              "4      19STUCHH010028\n",
              "           ...       \n",
              "69     19STUCHH010034\n",
              "70     19STUCHH010030\n",
              "71     19STUCHH010033\n",
              "72     19STUCHH010090\n",
              "73     19STUCHH010093\n",
              "Name: Enroll No, Length: 74, dtype: object"
            ]
          },
          "metadata": {},
          "execution_count": 36
        }
      ]
    },
    {
      "cell_type": "code",
      "metadata": {
        "colab": {
          "base_uri": "https://localhost:8080/",
          "height": 423
        },
        "id": "ikyG5xItfIO5",
        "outputId": "68115d3e-58d3-40be-9e1a-24fdb9fda021"
      },
      "source": [
        "df[['Name','Enroll No']] #Using an array extracting more than two coloumns "
      ],
      "execution_count": null,
      "outputs": [
        {
          "output_type": "execute_result",
          "data": {
            "text/html": [
              "<div>\n",
              "<style scoped>\n",
              "    .dataframe tbody tr th:only-of-type {\n",
              "        vertical-align: middle;\n",
              "    }\n",
              "\n",
              "    .dataframe tbody tr th {\n",
              "        vertical-align: top;\n",
              "    }\n",
              "\n",
              "    .dataframe thead th {\n",
              "        text-align: right;\n",
              "    }\n",
              "</style>\n",
              "<table border=\"1\" class=\"dataframe\">\n",
              "  <thead>\n",
              "    <tr style=\"text-align: right;\">\n",
              "      <th></th>\n",
              "      <th>Name</th>\n",
              "      <th>Enroll No</th>\n",
              "    </tr>\n",
              "  </thead>\n",
              "  <tbody>\n",
              "    <tr>\n",
              "      <th>0</th>\n",
              "      <td>K Sai Niroop Reddy</td>\n",
              "      <td>19STUCHH010134</td>\n",
              "    </tr>\n",
              "    <tr>\n",
              "      <th>1</th>\n",
              "      <td>Ved Mahendrakar</td>\n",
              "      <td>19stuchh010058</td>\n",
              "    </tr>\n",
              "    <tr>\n",
              "      <th>2</th>\n",
              "      <td>G.Brijesh kumar</td>\n",
              "      <td>19STUCHH010003</td>\n",
              "    </tr>\n",
              "    <tr>\n",
              "      <th>3</th>\n",
              "      <td>yaswanth pathinavalasa</td>\n",
              "      <td>19stuchh010131</td>\n",
              "    </tr>\n",
              "    <tr>\n",
              "      <th>4</th>\n",
              "      <td>P.varshini</td>\n",
              "      <td>19STUCHH010028</td>\n",
              "    </tr>\n",
              "    <tr>\n",
              "      <th>...</th>\n",
              "      <td>...</td>\n",
              "      <td>...</td>\n",
              "    </tr>\n",
              "    <tr>\n",
              "      <th>69</th>\n",
              "      <td>Jaya Rakesh Davuluri</td>\n",
              "      <td>19STUCHH010034</td>\n",
              "    </tr>\n",
              "    <tr>\n",
              "      <th>70</th>\n",
              "      <td>DEEPTHI RAPAKA</td>\n",
              "      <td>19STUCHH010030</td>\n",
              "    </tr>\n",
              "    <tr>\n",
              "      <th>71</th>\n",
              "      <td>Ripu haran reddy</td>\n",
              "      <td>19STUCHH010033</td>\n",
              "    </tr>\n",
              "    <tr>\n",
              "      <th>72</th>\n",
              "      <td>K.KARTHIK REDDY</td>\n",
              "      <td>19STUCHH010090</td>\n",
              "    </tr>\n",
              "    <tr>\n",
              "      <th>73</th>\n",
              "      <td>SRAVANTHI. K</td>\n",
              "      <td>19STUCHH010093</td>\n",
              "    </tr>\n",
              "  </tbody>\n",
              "</table>\n",
              "<p>74 rows × 2 columns</p>\n",
              "</div>"
            ],
            "text/plain": [
              "                      Name        Enroll No\n",
              "0      K Sai Niroop Reddy   19STUCHH010134 \n",
              "1          Ved Mahendrakar   19stuchh010058\n",
              "2          G.Brijesh kumar   19STUCHH010003\n",
              "3   yaswanth pathinavalasa   19stuchh010131\n",
              "4               P.varshini   19STUCHH010028\n",
              "..                     ...              ...\n",
              "69    Jaya Rakesh Davuluri   19STUCHH010034\n",
              "70         DEEPTHI RAPAKA    19STUCHH010030\n",
              "71        Ripu haran reddy   19STUCHH010033\n",
              "72         K.KARTHIK REDDY   19STUCHH010090\n",
              "73            SRAVANTHI. K   19STUCHH010093\n",
              "\n",
              "[74 rows x 2 columns]"
            ]
          },
          "metadata": {},
          "execution_count": 4
        }
      ]
    },
    {
      "cell_type": "code",
      "metadata": {
        "colab": {
          "base_uri": "https://localhost:8080/"
        },
        "id": "V4d6WooifiHc",
        "outputId": "0685d7b7-a671-4eda-bf66-369246fd5244"
      },
      "source": [
        "df.iloc[30] #opening individual rows"
      ],
      "execution_count": null,
      "outputs": [
        {
          "output_type": "execute_result",
          "data": {
            "text/plain": [
              "Timestamp     2021-08-10 10:32:11.903000\n",
              "Unnamed: 1                           NaN\n",
              "Name                   Rajuldev Bhargavi\n",
              "Enroll No                 19STUCHH010026\n",
              "Name: 30, dtype: object"
            ]
          },
          "metadata": {},
          "execution_count": 21
        }
      ]
    },
    {
      "cell_type": "code",
      "metadata": {
        "colab": {
          "base_uri": "https://localhost:8080/",
          "height": 676
        },
        "id": "MwCWgvHpft_k",
        "outputId": "4d275967-33d1-4335-e067-d7a8840a3334"
      },
      "source": [
        "df.iloc[20:40] #opening multipule rows"
      ],
      "execution_count": null,
      "outputs": [
        {
          "output_type": "execute_result",
          "data": {
            "text/html": [
              "<div>\n",
              "<style scoped>\n",
              "    .dataframe tbody tr th:only-of-type {\n",
              "        vertical-align: middle;\n",
              "    }\n",
              "\n",
              "    .dataframe tbody tr th {\n",
              "        vertical-align: top;\n",
              "    }\n",
              "\n",
              "    .dataframe thead th {\n",
              "        text-align: right;\n",
              "    }\n",
              "</style>\n",
              "<table border=\"1\" class=\"dataframe\">\n",
              "  <thead>\n",
              "    <tr style=\"text-align: right;\">\n",
              "      <th></th>\n",
              "      <th>Timestamp</th>\n",
              "      <th>Unnamed: 1</th>\n",
              "      <th>Name</th>\n",
              "      <th>Enroll No</th>\n",
              "    </tr>\n",
              "  </thead>\n",
              "  <tbody>\n",
              "    <tr>\n",
              "      <th>20</th>\n",
              "      <td>2021-08-10 10:31:37.043</td>\n",
              "      <td>NaN</td>\n",
              "      <td>Purnima Siramsetty</td>\n",
              "      <td>19STUCHH010109</td>\n",
              "    </tr>\n",
              "    <tr>\n",
              "      <th>21</th>\n",
              "      <td>2021-08-10 10:31:38.169</td>\n",
              "      <td>NaN</td>\n",
              "      <td>Abhinav Chowdary</td>\n",
              "      <td>19stuchh010240</td>\n",
              "    </tr>\n",
              "    <tr>\n",
              "      <th>22</th>\n",
              "      <td>2021-08-10 10:31:46.805</td>\n",
              "      <td>NaN</td>\n",
              "      <td>Aaryan Nakhat</td>\n",
              "      <td>19STUCHH010169</td>\n",
              "    </tr>\n",
              "    <tr>\n",
              "      <th>23</th>\n",
              "      <td>2021-08-10 10:31:47.060</td>\n",
              "      <td>NaN</td>\n",
              "      <td>Vasa Srinivas</td>\n",
              "      <td>19STUCHH010032</td>\n",
              "    </tr>\n",
              "    <tr>\n",
              "      <th>24</th>\n",
              "      <td>2021-08-10 10:31:47.262</td>\n",
              "      <td>NaN</td>\n",
              "      <td>Ben Shalom</td>\n",
              "      <td>19STUCHH010062</td>\n",
              "    </tr>\n",
              "    <tr>\n",
              "      <th>25</th>\n",
              "      <td>2021-08-10 10:31:51.189</td>\n",
              "      <td>NaN</td>\n",
              "      <td>G.Shriya vaishnavi</td>\n",
              "      <td>19STUCHH010106</td>\n",
              "    </tr>\n",
              "    <tr>\n",
              "      <th>26</th>\n",
              "      <td>2021-08-10 10:31:53.461</td>\n",
              "      <td>NaN</td>\n",
              "      <td>K. Sravani</td>\n",
              "      <td>19STUCHH010146</td>\n",
              "    </tr>\n",
              "    <tr>\n",
              "      <th>27</th>\n",
              "      <td>2021-08-10 10:31:57.283</td>\n",
              "      <td>NaN</td>\n",
              "      <td>D.AKHIL REDDY</td>\n",
              "      <td>19STUCHH010002</td>\n",
              "    </tr>\n",
              "    <tr>\n",
              "      <th>28</th>\n",
              "      <td>2021-08-10 10:32:01.284</td>\n",
              "      <td>NaN</td>\n",
              "      <td>Mounya Sri</td>\n",
              "      <td>19STUCHH010260</td>\n",
              "    </tr>\n",
              "    <tr>\n",
              "      <th>29</th>\n",
              "      <td>2021-08-10 10:32:01.517</td>\n",
              "      <td>NaN</td>\n",
              "      <td>Ch Venkatesh</td>\n",
              "      <td>19stuchh010022</td>\n",
              "    </tr>\n",
              "    <tr>\n",
              "      <th>30</th>\n",
              "      <td>2021-08-10 10:32:11.903</td>\n",
              "      <td>NaN</td>\n",
              "      <td>Rajuldev Bhargavi</td>\n",
              "      <td>19STUCHH010026</td>\n",
              "    </tr>\n",
              "    <tr>\n",
              "      <th>31</th>\n",
              "      <td>2021-08-10 10:32:12.067</td>\n",
              "      <td>NaN</td>\n",
              "      <td>Payal Das</td>\n",
              "      <td>19STUCHH010044</td>\n",
              "    </tr>\n",
              "    <tr>\n",
              "      <th>32</th>\n",
              "      <td>2021-08-10 10:32:18.802</td>\n",
              "      <td>NaN</td>\n",
              "      <td>K Pavan Kumar</td>\n",
              "      <td>19stuchh010014</td>\n",
              "    </tr>\n",
              "    <tr>\n",
              "      <th>33</th>\n",
              "      <td>2021-08-10 10:32:19.915</td>\n",
              "      <td>NaN</td>\n",
              "      <td>yandapalli nagendra</td>\n",
              "      <td>19stuchh010237</td>\n",
              "    </tr>\n",
              "    <tr>\n",
              "      <th>34</th>\n",
              "      <td>2021-08-10 10:32:22.475</td>\n",
              "      <td>NaN</td>\n",
              "      <td>gopal krishna sharma</td>\n",
              "      <td>19stuchh010086</td>\n",
              "    </tr>\n",
              "    <tr>\n",
              "      <th>35</th>\n",
              "      <td>2021-08-10 10:32:27.477</td>\n",
              "      <td>NaN</td>\n",
              "      <td>M SURESH</td>\n",
              "      <td>19STUCHH010211</td>\n",
              "    </tr>\n",
              "    <tr>\n",
              "      <th>36</th>\n",
              "      <td>2021-08-10 10:32:28.973</td>\n",
              "      <td>NaN</td>\n",
              "      <td>Sandhya sridevi</td>\n",
              "      <td>19STUCHH010069</td>\n",
              "    </tr>\n",
              "    <tr>\n",
              "      <th>37</th>\n",
              "      <td>2021-08-10 10:32:32.072</td>\n",
              "      <td>NaN</td>\n",
              "      <td>B.Harshini</td>\n",
              "      <td>19STUCHH010290</td>\n",
              "    </tr>\n",
              "    <tr>\n",
              "      <th>38</th>\n",
              "      <td>2021-08-10 10:32:34.320</td>\n",
              "      <td>NaN</td>\n",
              "      <td>Panjala Bhanu Teja</td>\n",
              "      <td>19STUCHH010087</td>\n",
              "    </tr>\n",
              "    <tr>\n",
              "      <th>39</th>\n",
              "      <td>2021-08-10 10:32:38.857</td>\n",
              "      <td>NaN</td>\n",
              "      <td>Akanksha Reddy</td>\n",
              "      <td>19STUCHH010191</td>\n",
              "    </tr>\n",
              "  </tbody>\n",
              "</table>\n",
              "</div>"
            ],
            "text/plain": [
              "                 Timestamp  Unnamed: 1                  Name        Enroll No\n",
              "20 2021-08-10 10:31:37.043         NaN    Purnima Siramsetty   19STUCHH010109\n",
              "21 2021-08-10 10:31:38.169         NaN      Abhinav Chowdary   19stuchh010240\n",
              "22 2021-08-10 10:31:46.805         NaN         Aaryan Nakhat   19STUCHH010169\n",
              "23 2021-08-10 10:31:47.060         NaN         Vasa Srinivas   19STUCHH010032\n",
              "24 2021-08-10 10:31:47.262         NaN            Ben Shalom   19STUCHH010062\n",
              "25 2021-08-10 10:31:51.189         NaN   G.Shriya vaishnavi    19STUCHH010106\n",
              "26 2021-08-10 10:31:53.461         NaN            K. Sravani   19STUCHH010146\n",
              "27 2021-08-10 10:31:57.283         NaN         D.AKHIL REDDY   19STUCHH010002\n",
              "28 2021-08-10 10:32:01.284         NaN            Mounya Sri   19STUCHH010260\n",
              "29 2021-08-10 10:32:01.517         NaN          Ch Venkatesh   19stuchh010022\n",
              "30 2021-08-10 10:32:11.903         NaN     Rajuldev Bhargavi   19STUCHH010026\n",
              "31 2021-08-10 10:32:12.067         NaN            Payal Das   19STUCHH010044 \n",
              "32 2021-08-10 10:32:18.802         NaN        K Pavan Kumar    19stuchh010014\n",
              "33 2021-08-10 10:32:19.915         NaN   yandapalli nagendra   19stuchh010237\n",
              "34 2021-08-10 10:32:22.475         NaN  gopal krishna sharma   19stuchh010086\n",
              "35 2021-08-10 10:32:27.477         NaN              M SURESH   19STUCHH010211\n",
              "36 2021-08-10 10:32:28.973         NaN       Sandhya sridevi   19STUCHH010069\n",
              "37 2021-08-10 10:32:32.072         NaN            B.Harshini   19STUCHH010290\n",
              "38 2021-08-10 10:32:34.320         NaN    Panjala Bhanu Teja   19STUCHH010087\n",
              "39 2021-08-10 10:32:38.857         NaN        Akanksha Reddy   19STUCHH010191"
            ]
          },
          "metadata": {},
          "execution_count": 10
        }
      ]
    },
    {
      "cell_type": "code",
      "metadata": {
        "colab": {
          "base_uri": "https://localhost:8080/",
          "height": 425
        },
        "id": "SFL76OJ7gLil",
        "outputId": "97621191-ebd3-40a0-a321-a690168bc940"
      },
      "source": [
        "df.iloc[10:70:5] # skipping every three numbers"
      ],
      "execution_count": null,
      "outputs": [
        {
          "output_type": "execute_result",
          "data": {
            "text/html": [
              "<div>\n",
              "<style scoped>\n",
              "    .dataframe tbody tr th:only-of-type {\n",
              "        vertical-align: middle;\n",
              "    }\n",
              "\n",
              "    .dataframe tbody tr th {\n",
              "        vertical-align: top;\n",
              "    }\n",
              "\n",
              "    .dataframe thead th {\n",
              "        text-align: right;\n",
              "    }\n",
              "</style>\n",
              "<table border=\"1\" class=\"dataframe\">\n",
              "  <thead>\n",
              "    <tr style=\"text-align: right;\">\n",
              "      <th></th>\n",
              "      <th>Timestamp</th>\n",
              "      <th>Unnamed: 1</th>\n",
              "      <th>Name</th>\n",
              "      <th>Enroll No</th>\n",
              "    </tr>\n",
              "  </thead>\n",
              "  <tbody>\n",
              "    <tr>\n",
              "      <th>10</th>\n",
              "      <td>2021-08-10 10:31:16.667</td>\n",
              "      <td>NaN</td>\n",
              "      <td>pranith</td>\n",
              "      <td>19STUCHH01097</td>\n",
              "    </tr>\n",
              "    <tr>\n",
              "      <th>15</th>\n",
              "      <td>2021-08-10 10:31:30.049</td>\n",
              "      <td>NaN</td>\n",
              "      <td>dheeraj patel</td>\n",
              "      <td>19STUCHH010216</td>\n",
              "    </tr>\n",
              "    <tr>\n",
              "      <th>20</th>\n",
              "      <td>2021-08-10 10:31:37.043</td>\n",
              "      <td>NaN</td>\n",
              "      <td>Purnima Siramsetty</td>\n",
              "      <td>19STUCHH010109</td>\n",
              "    </tr>\n",
              "    <tr>\n",
              "      <th>25</th>\n",
              "      <td>2021-08-10 10:31:51.189</td>\n",
              "      <td>NaN</td>\n",
              "      <td>G.Shriya vaishnavi</td>\n",
              "      <td>19STUCHH010106</td>\n",
              "    </tr>\n",
              "    <tr>\n",
              "      <th>30</th>\n",
              "      <td>2021-08-10 10:32:11.903</td>\n",
              "      <td>NaN</td>\n",
              "      <td>Rajuldev Bhargavi</td>\n",
              "      <td>19STUCHH010026</td>\n",
              "    </tr>\n",
              "    <tr>\n",
              "      <th>35</th>\n",
              "      <td>2021-08-10 10:32:27.477</td>\n",
              "      <td>NaN</td>\n",
              "      <td>M SURESH</td>\n",
              "      <td>19STUCHH010211</td>\n",
              "    </tr>\n",
              "    <tr>\n",
              "      <th>40</th>\n",
              "      <td>2021-08-10 10:32:43.538</td>\n",
              "      <td>NaN</td>\n",
              "      <td>Aaryan Mateti</td>\n",
              "      <td>19STUCHH010217</td>\n",
              "    </tr>\n",
              "    <tr>\n",
              "      <th>45</th>\n",
              "      <td>2021-08-10 10:33:00.824</td>\n",
              "      <td>NaN</td>\n",
              "      <td>Aditi Mutha</td>\n",
              "      <td>19STUCHH010057</td>\n",
              "    </tr>\n",
              "    <tr>\n",
              "      <th>50</th>\n",
              "      <td>2021-08-10 10:33:14.215</td>\n",
              "      <td>NaN</td>\n",
              "      <td>JOGA PARMESHWAR</td>\n",
              "      <td>19STUCHH010236</td>\n",
              "    </tr>\n",
              "    <tr>\n",
              "      <th>55</th>\n",
              "      <td>2021-08-10 10:33:45.328</td>\n",
              "      <td>NaN</td>\n",
              "      <td>Akshaya reddy</td>\n",
              "      <td>19STUCHH010192</td>\n",
              "    </tr>\n",
              "    <tr>\n",
              "      <th>60</th>\n",
              "      <td>2021-08-10 10:34:14.809</td>\n",
              "      <td>NaN</td>\n",
              "      <td>Niharika Chintha</td>\n",
              "      <td>19stuchh010151</td>\n",
              "    </tr>\n",
              "    <tr>\n",
              "      <th>65</th>\n",
              "      <td>2021-08-10 10:34:37.835</td>\n",
              "      <td>NaN</td>\n",
              "      <td>Karthik</td>\n",
              "      <td>19stuchh010168</td>\n",
              "    </tr>\n",
              "  </tbody>\n",
              "</table>\n",
              "</div>"
            ],
            "text/plain": [
              "                 Timestamp  Unnamed: 1                 Name       Enroll No\n",
              "10 2021-08-10 10:31:16.667         NaN             pranith   19STUCHH01097 \n",
              "15 2021-08-10 10:31:30.049         NaN        dheeraj patel  19STUCHH010216\n",
              "20 2021-08-10 10:31:37.043         NaN   Purnima Siramsetty  19STUCHH010109\n",
              "25 2021-08-10 10:31:51.189         NaN  G.Shriya vaishnavi   19STUCHH010106\n",
              "30 2021-08-10 10:32:11.903         NaN    Rajuldev Bhargavi  19STUCHH010026\n",
              "35 2021-08-10 10:32:27.477         NaN             M SURESH  19STUCHH010211\n",
              "40 2021-08-10 10:32:43.538         NaN        Aaryan Mateti  19STUCHH010217\n",
              "45 2021-08-10 10:33:00.824         NaN          Aditi Mutha  19STUCHH010057\n",
              "50 2021-08-10 10:33:14.215         NaN     JOGA PARMESHWAR   19STUCHH010236\n",
              "55 2021-08-10 10:33:45.328         NaN        Akshaya reddy  19STUCHH010192\n",
              "60 2021-08-10 10:34:14.809         NaN     Niharika Chintha  19stuchh010151\n",
              "65 2021-08-10 10:34:37.835         NaN              Karthik  19stuchh010168"
            ]
          },
          "metadata": {},
          "execution_count": 22
        }
      ]
    },
    {
      "cell_type": "code",
      "metadata": {
        "colab": {
          "base_uri": "https://localhost:8080/",
          "height": 35
        },
        "id": "LqvsG1eugZBo",
        "outputId": "c5ba7535-211b-41e1-8528-a3fac4a89a9c"
      },
      "source": [
        "df.iloc[11,2] #extracting separate cell"
      ],
      "execution_count": null,
      "outputs": [
        {
          "output_type": "execute_result",
          "data": {
            "application/vnd.google.colaboratory.intrinsic+json": {
              "type": "string"
            },
            "text/plain": [
              "'Nikhil Vasa sali'"
            ]
          },
          "metadata": {},
          "execution_count": 23
        }
      ]
    },
    {
      "cell_type": "code",
      "metadata": {
        "colab": {
          "base_uri": "https://localhost:8080/"
        },
        "id": "Rf20LDKqgzau",
        "outputId": "fdefed0c-4d70-4346-ec49-e0b84ea01c58"
      },
      "source": [
        "df.iloc[30:50,3] # extracting group of cells"
      ],
      "execution_count": null,
      "outputs": [
        {
          "output_type": "execute_result",
          "data": {
            "text/plain": [
              "30     19STUCHH010026\n",
              "31    19STUCHH010044 \n",
              "32     19stuchh010014\n",
              "33     19stuchh010237\n",
              "34     19stuchh010086\n",
              "35     19STUCHH010211\n",
              "36     19STUCHH010069\n",
              "37     19STUCHH010290\n",
              "38     19STUCHH010087\n",
              "39     19STUCHH010191\n",
              "40     19STUCHH010217\n",
              "41     19STUCHH010215\n",
              "42     19STUCHH010055\n",
              "43     19STUCHH010244\n",
              "44     19STUCHH010050\n",
              "45     19STUCHH010057\n",
              "46     19STUCHH010095\n",
              "47     19stuchh010091\n",
              "48     19STUCHH010019\n",
              "49     19STUCHH010222\n",
              "Name: Enroll No, dtype: object"
            ]
          },
          "metadata": {},
          "execution_count": 25
        }
      ]
    },
    {
      "cell_type": "code",
      "metadata": {
        "colab": {
          "base_uri": "https://localhost:8080/"
        },
        "id": "XJWj79j-mYow",
        "outputId": "04a152e4-c28a-4de7-d25e-eae8936febc0"
      },
      "source": [
        "df.iloc[2: ,3]"
      ],
      "execution_count": null,
      "outputs": [
        {
          "output_type": "execute_result",
          "data": {
            "text/plain": [
              "2     19STUCHH010003\n",
              "3     19stuchh010131\n",
              "4     19STUCHH010028\n",
              "5     19STUCHH010083\n",
              "6     19STUCHH010001\n",
              "           ...      \n",
              "69    19STUCHH010034\n",
              "70    19STUCHH010030\n",
              "71    19STUCHH010033\n",
              "72    19STUCHH010090\n",
              "73    19STUCHH010093\n",
              "Name: Enroll No, Length: 72, dtype: object"
            ]
          },
          "metadata": {},
          "execution_count": 30
        }
      ]
    },
    {
      "cell_type": "code",
      "metadata": {
        "colab": {
          "base_uri": "https://localhost:8080/"
        },
        "id": "ZU21Qw0HnCX0",
        "outputId": "a928c0f1-2d86-448c-97bf-29b0d25f4c3f"
      },
      "source": [
        "List1 = []\n",
        "List1 = df.iloc[0: , 3]\n",
        "print(List1)"
      ],
      "execution_count": null,
      "outputs": [
        {
          "output_type": "stream",
          "text": [
            "0     19STUCHH010134 \n",
            "1      19stuchh010058\n",
            "2      19STUCHH010003\n",
            "3      19stuchh010131\n",
            "4      19STUCHH010028\n",
            "           ...       \n",
            "69     19STUCHH010034\n",
            "70     19STUCHH010030\n",
            "71     19STUCHH010033\n",
            "72     19STUCHH010090\n",
            "73     19STUCHH010093\n",
            "Name: Enroll No, Length: 74, dtype: object\n"
          ],
          "name": "stdout"
        }
      ]
    }
  ]
}